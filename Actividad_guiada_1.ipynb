{
 "cells": [
  {
   "cell_type": "markdown",
   "id": "cff8c9f0-319d-4728-ba60-7f97a6b12a9c",
   "metadata": {},
   "source": [
    "### Actividad Guiada 1"
   ]
  },
  {
   "cell_type": "markdown",
   "id": "50d58a12-3ee6-46de-b3e5-5d1109181c66",
   "metadata": {},
   "source": [
    "#### Ignacio Guerra Sevillano"
   ]
  },
  {
   "cell_type": "markdown",
   "id": "de5be318-7973-40ab-a51e-d7d2ba01e8f4",
   "metadata": {},
   "source": [
    "LINK"
   ]
  },
  {
   "cell_type": "code",
   "execution_count": 1,
   "id": "7d7752cd-f47f-456d-9a2d-b98274334e90",
   "metadata": {},
   "outputs": [],
   "source": [
    "import numpy as np\n",
    "import numpy.linalg as linalg"
   ]
  },
  {
   "cell_type": "code",
   "execution_count": 1,
   "id": "ef1212c2-bb2a-4c2a-bbcf-bf4b9f4239f2",
   "metadata": {},
   "outputs": [],
   "source": [
    "def torres_hanoi(N, origen, destino, pivote):\n",
    "    \n",
    "    if N == 1: \n",
    "        print(f\"Mover bloque desde {origen} a {destino}\")\n",
    "        return\n",
    "    \n",
    "    torres_hanoi(N-1, origen, pivote, destino)\n",
    "    print(f\"Mover bloque desde {origen} a {destino}\")\n",
    "    \n",
    "    torres_hanoi(N-1, pivote, destino, origen)\n",
    "    \n",
    "    return"
   ]
  },
  {
   "cell_type": "code",
   "execution_count": 2,
   "id": "f1eadc59-d43e-43c0-a0dc-65380539d23d",
   "metadata": {},
   "outputs": [
    {
     "name": "stdout",
     "output_type": "stream",
     "text": [
      "Mover bloque desde 1 a 2\n",
      "Mover bloque desde 1 a 3\n",
      "Mover bloque desde 2 a 3\n",
      "Mover bloque desde 1 a 2\n",
      "Mover bloque desde 3 a 1\n",
      "Mover bloque desde 3 a 2\n",
      "Mover bloque desde 1 a 2\n",
      "Mover bloque desde 1 a 3\n",
      "Mover bloque desde 2 a 3\n",
      "Mover bloque desde 2 a 1\n",
      "Mover bloque desde 3 a 1\n",
      "Mover bloque desde 2 a 3\n",
      "Mover bloque desde 1 a 2\n",
      "Mover bloque desde 1 a 3\n",
      "Mover bloque desde 2 a 3\n"
     ]
    }
   ],
   "source": [
    "torres_hanoi(4,1,3,2)"
   ]
  },
  {
   "cell_type": "markdown",
   "id": "a3c5f566-9d3c-4e4d-b13e-e8c3c6829abd",
   "metadata": {},
   "source": [
    "#### Problema de cambio de monedas"
   ]
  },
  {
   "cell_type": "code",
   "execution_count": 36,
   "id": "30773e91-d22f-481c-8ea3-e945a2a756c0",
   "metadata": {},
   "outputs": [],
   "source": [
    "def cambio_monedas(cantidad, sistema):\n",
    "    \n",
    "    monedas = []\n",
    "    suma = 0\n",
    "    \n",
    "    while suma < cantidad and len(sistema) > 0:\n",
    "        maxim = max(sistema)\n",
    "        n = (cantidad - suma) // maxim\n",
    "        suma += n*maxim\n",
    "        sistema.remove(maxim)\n",
    "        monedas.append(n)\n",
    "    \n",
    "    return monedas\n",
    "    \n",
    "# Retorna el número de monedas a devolver para cada\n",
    "# moneda, siendo la primera la de mayor valor y \n",
    "# siguiendo orden descendente.\n",
    "\n",
    "# Si con el sistema no se puede devolver la cantidad\n",
    "# deseada, se devuelve el número de monedas de forma\n",
    "# que la suma queda lo más cerca posible a la \n",
    "# cantidad pero sin pasarse.\n",
    "\n",
    "# He supuesto que la lista inicial no esta ordenada,\n",
    "# en caso de estar odenada sería más fácil con el \n",
    "# bucle for"
   ]
  },
  {
   "cell_type": "code",
   "execution_count": 38,
   "id": "da663d6e-e9b1-4396-8e2f-598de11d09e6",
   "metadata": {},
   "outputs": [
    {
     "data": {
      "text/plain": [
       "[2, 0, 0, 4]"
      ]
     },
     "execution_count": 38,
     "metadata": {},
     "output_type": "execute_result"
    }
   ],
   "source": [
    "cambio_monedas(54, [25,10,5,1])"
   ]
  },
  {
   "cell_type": "markdown",
   "id": "93f93c7a-505a-4bb9-9d55-8bf0dc68413f",
   "metadata": {},
   "source": [
    "#### Problema de puntos más cercanos"
   ]
  },
  {
   "cell_type": "markdown",
   "id": "9c2f05c4-0949-4969-a691-164e0bdba850",
   "metadata": {},
   "source": [
    "###### 1-Dimensión fuerza bruta"
   ]
  },
  {
   "cell_type": "code",
   "execution_count": 5,
   "id": "20413612-6da2-4440-9b66-233691692f86",
   "metadata": {},
   "outputs": [],
   "source": [
    "def puntos_cercanos_1D_FB(puntos):\n",
    "    \n",
    "    min_dist = float('Inf')\n",
    "    \n",
    "    for i in range(len(puntos)):\n",
    "        for j in range(i+1, len(puntos)):\n",
    "            \n",
    "            dist = abs(puntos[i] - puntos[j])\n",
    "            \n",
    "            if dist <= min_dist:\n",
    "                min_dist = dist\n",
    "                puntos_solucion = [puntos[i], puntos[j]]\n",
    "    \n",
    "    return (puntos_solucion, \"Distancia= \" + str(min_dist))"
   ]
  },
  {
   "cell_type": "code",
   "execution_count": 6,
   "id": "75e0f21b-f863-4258-999a-028f00aea979",
   "metadata": {},
   "outputs": [
    {
     "data": {
      "text/plain": [
       "([90, 93], 'Distancia= 3')"
      ]
     },
     "execution_count": 6,
     "metadata": {},
     "output_type": "execute_result"
    }
   ],
   "source": [
    "puntos_cercanos_1D_FB([2,77,90,130,-12,93,-300])"
   ]
  },
  {
   "cell_type": "markdown",
   "id": "95258996-c8bf-4711-a1dc-5bc7d3fbaab6",
   "metadata": {},
   "source": [
    "###### N-Dimensión fuerza bruta"
   ]
  },
  {
   "cell_type": "code",
   "execution_count": 3,
   "id": "eb87fbf3-83f7-4eb8-8e9e-1328d1155fdc",
   "metadata": {},
   "outputs": [],
   "source": [
    "def puntos_cercanos_ND_FB(puntos):\n",
    "    \n",
    "    min_dist = float('Inf')\n",
    "    \n",
    "    for i in range(len(puntos)):\n",
    "        for j in range(i+1, len(puntos)):\n",
    "            \n",
    "            dist = linalg.norm(puntos[i] - puntos[j])\n",
    "            \n",
    "            if dist <= min_dist:\n",
    "                min_dist = dist\n",
    "                puntos_solucion = [puntos[i], puntos[j]]\n",
    "    \n",
    "    return (puntos_solucion, \"Distancia= \" + str(min_dist))"
   ]
  },
  {
   "cell_type": "code",
   "execution_count": 5,
   "id": "2d492b61-ec06-4ee9-8827-868b5cf6e447",
   "metadata": {},
   "outputs": [
    {
     "data": {
      "text/plain": [
       "([array([0, 0, 0]), array([ 0, -1,  0])], 'Distancia= 1.0')"
      ]
     },
     "execution_count": 5,
     "metadata": {},
     "output_type": "execute_result"
    }
   ],
   "source": [
    "puntos_cercanos_ND_FB([np.array([0,0,0]), np.array([1,1,1]), np.array([4,9,2]),\n",
    "                      np.array([5,12,-9]), np.array([0,-1,0])])"
   ]
  },
  {
   "cell_type": "markdown",
   "id": "041328df-2c6e-428e-b1ed-ddb2d47cb26f",
   "metadata": {},
   "source": [
    "###### 1-Dimensión divide y vencerás"
   ]
  },
  {
   "cell_type": "code",
   "execution_count": 8,
   "id": "60d76c0a-4846-430f-b788-51df7bf97c90",
   "metadata": {},
   "outputs": [],
   "source": [
    "def puntos_cercanos_1D_DV(puntos):\n",
    "    \n",
    "    puntos.sort() # En caso de que no vinieran ordenados\n",
    "    \n",
    "    # Caso trivial\n",
    "    if len(puntos) == 2:\n",
    "        dist = puntos[1] - puntos[0]\n",
    "        return puntos[0], puntos[1], dist\n",
    "    elif len(puntos) < 2:\n",
    "        return None, None, float('Inf')\n",
    "    \n",
    "    # Mitad\n",
    "    m = len(puntos) // 2\n",
    "    \n",
    "    left_puntos = puntos[:m]\n",
    "    right_puntos = puntos[m:]\n",
    "    \n",
    "    # Aplicamos recurrencia\n",
    "    punto_left_1, punto_left_2, dist_left = puntos_cercanos_1D_DV(left_puntos)\n",
    "    punto_right_1, punto_right_2, dist_right = puntos_cercanos_1D_DV(right_puntos)\n",
    "    \n",
    "    # Vamos tomando la menor distancia entre aquellas de la izquierda,\n",
    "    # la derecha y la distancia entre el punto más a la derecha de la\n",
    "    # mitad izquierda y el punto más a la izquierda de la mitad derecha\n",
    "    if dist_left < dist_right:\n",
    "        punto1, punto2, dist = punto_left_1, punto_left_2, dist_left\n",
    "    else:\n",
    "        punto1, punto2, dist = punto_right_1, punto_right_2, dist_right\n",
    "\n",
    "    dist_medio = puntos[m] - puntos[m-1]\n",
    "\n",
    "    if dist_medio < dist:\n",
    "        punto1, punto2, dist = puntos[m-1], puntos[m], dist_medio\n",
    "    \n",
    "    return punto1, punto2, dist"
   ]
  },
  {
   "cell_type": "code",
   "execution_count": 9,
   "id": "e33eeaff-5e5e-4fc0-a503-2a2f0a58d63b",
   "metadata": {},
   "outputs": [
    {
     "name": "stdout",
     "output_type": "stream",
     "text": [
      "Los puntos son 90 y 93, y la distancia es igual a 3.\n"
     ]
    }
   ],
   "source": [
    "p1, p2, d = puntos_cercanos_1D_DV([2,77,90,130,-12,93,-300])\n",
    "\n",
    "print(f'Los puntos son {p1} y {p2}, y la distancia es igual a {d}.')"
   ]
  }
 ],
 "metadata": {
  "kernelspec": {
   "display_name": "Python 3 (ipykernel)",
   "language": "python",
   "name": "python3"
  },
  "language_info": {
   "codemirror_mode": {
    "name": "ipython",
    "version": 3
   },
   "file_extension": ".py",
   "mimetype": "text/x-python",
   "name": "python",
   "nbconvert_exporter": "python",
   "pygments_lexer": "ipython3",
   "version": "3.9.12"
  }
 },
 "nbformat": 4,
 "nbformat_minor": 5
}
