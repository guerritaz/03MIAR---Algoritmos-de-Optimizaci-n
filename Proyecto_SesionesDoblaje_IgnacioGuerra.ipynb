{
 "cells": [
  {
   "cell_type": "markdown",
   "metadata": {
    "id": "hVbXYX-RfPWh",
    "tags": []
   },
   "source": [
    "# Algoritmos de optimización - Seminario<br>\n",
    "Nombre y Apellidos: Ignacio Guerra Sevillano  <br>\n",
    "Url: <br>\n",
    "Problema: 1. Sesiones de doblaje <br>\n",
    "\n",
    "\n",
    "\n",
    "Descripción del problema:\n",
    "Se precisa coordinar el doblaje de una película. Los actores del doblaje deben coincidir en las\n",
    "tomas en las que sus personajes aparecen juntos en las diferentes tomas. Los actores de\n",
    "doblaje cobran todos la misma cantidad por cada día que deben desplazarse hasta el estudio de\n",
    "grabación independientemente del número de tomas que se graben. No es posible grabar más\n",
    "de 6 tomas por día. El objetivo es planificar las sesiones por día de manera que el gasto por los\n",
    "servicios de los actores de doblaje sea el menor posible con los datos aportados en el fichero excel.\n",
    "\n",
    "\n",
    "\n",
    "(*) La respuesta es obligatoria\n",
    "\n",
    "\n",
    "\n",
    "\n",
    "\n"
   ]
  },
  {
   "cell_type": "markdown",
   "metadata": {},
   "source": [
    "Se trata de un problema que puede ser modelizado como un problema de Programación Lineal Binario. En nuestro caso tomaremos el número de días como un valor fijo. En concreto, lo fijaremos en 5 días, pues siempre será igual o mejor meter más tomas en el mismo día que empezar un día nuevo por una toma. \n",
    "\n",
    "Definimos las variables binarias $X_{ij}$ con $i\\in \\{1,\\dots, 30\\}$ y $j\\in \\{1,\\dots, 5\\}$ como $$X_{ij} = \\quad \\text{$1$ si la toma $i$ se realiza en el día $j$,} \\quad \\text{$0$ en caso contrario}.$$\n",
    "\n",
    "Puesto que cada toma solo se realiza una vez (obvio), se tienen las siguientes restricciones:\n",
    "$$\\sum_{i=1}^{30} X_{ij} = 1, \\quad j\\in \\{1,\\dots, 5\\}.$$\n",
    "\n",
    "Si además tenemos en cuenta que no se puede hacer más de 6 tomas en el mismo día, tendremos que:\n",
    "$$\\sum_{j=1}^{5} X_{ij} = 6, \\quad i\\in \\{1,\\dots, 30\\}.$$\n",
    "\n",
    "Se da la igualdad pues para que sean 5 días hay que realizar exactamente 6 tomas por día."
   ]
  },
  {
   "cell_type": "markdown",
   "metadata": {
    "id": "3_-exlrTgLd-"
   },
   "source": [
    "(*)¿Cuantas posibilidades hay sin tener en cuenta las restricciones?<br>\n",
    "\n",
    "\n",
    "\n",
    "¿Cuantas posibilidades hay teniendo en cuenta todas las restricciones.\n",
    "\n",
    "\n"
   ]
  },
  {
   "cell_type": "markdown",
   "metadata": {
    "id": "iq6Fe32MgpDX"
   },
   "source": [
    "Las posibilidades sin tener en cuenta las restricciones pero sí suponiendo que cada toma se debe realizar tan solo una vez son exactamente $5^{30}$ (basta fijarse en la primera igualdad y escoger para cada una de las 5 ecuaciones una variables que tome el valor 1 de las 30). Esto último sería cierto en caso de que el número de días fuese fijo, si no fuese fijo las combinaciones posibles serían $30^{30}$ por el mismo razonamiento (suponiendo que como mínimo se hace una toma por día y los días son consecutivos).\n",
    "\n",
    "Para el caso que nos corresponde, es decir, número de días igual a 5, las posibilidades con las restricciones son:\n",
    "\n",
    "$$n_{pos} = \\binom{30}{6} \\cdot \\binom{24}{6} \\cdot \\binom{18}{6} \\cdot \\binom{12}{6} \\cdot \\binom{6}{6} = 1370874167589326400 \\approx 1.371 \\cdot 10^{18}.$$\n",
    "\n",
    "Lo último se debe a que para e primer día podemos escoger 6 tomas de las 30, para el segundo día tenemos que escoger 6 tomas de las restantes, es decir, 6 tomas de 24, para el tercero 6 tomas de 18 y así hasta el último día."
   ]
  },
  {
   "cell_type": "markdown",
   "metadata": {
    "id": "dzynfVJahHoY"
   },
   "source": [
    "Modelo para el espacio de soluciones<br>\n",
    "(*) ¿Cual es la estructura de datos que mejor se adapta al problema? Argumentalo.(Es posible que hayas elegido una al principio y veas la necesidad de cambiar, arguentalo)\n"
   ]
  },
  {
   "cell_type": "markdown",
   "metadata": {
    "id": "38c-7-ejhJmA"
   },
   "source": [
    "Debido al formato excel de los datos de entrada y a que no se requiere apenas operaciones matemáticas para diseñar el algoritmo he utilizado la estructura de DataFrame de Pandas."
   ]
  },
  {
   "cell_type": "markdown",
   "metadata": {
    "id": "7Z9U2W7bi-XS"
   },
   "source": [
    "Según el modelo para el espacio de soluciones<br>\n",
    "(*)¿Cual es la función objetivo?\n",
    "\n",
    "(*)¿Es un problema de maximización o minimización?"
   ]
  },
  {
   "cell_type": "markdown",
   "metadata": {
    "id": "pDA-rg3Gj5Lz"
   },
   "source": [
    "La función objetivo a **minimizar** es $$f(X_{ij}) = \\sum_{i=1}^{30} \\sum_{j=1}^{5} \\omega_i X_{ij},$$\n",
    "\n",
    "donde los $\\omega_i$ corresponden con el número de actores de la toma $i$."
   ]
  },
  {
   "cell_type": "markdown",
   "metadata": {
    "id": "txbrmLmskReM"
   },
   "source": [
    "(*)Diseña un algoritmo que mejore la complejidad del algoritmo por fuerza bruta. Argumenta porque crees que mejora el algoritmo por fuerza bruta"
   ]
  },
  {
   "cell_type": "markdown",
   "metadata": {},
   "source": [
    "En primer lugar, importamos los datos:"
   ]
  },
  {
   "cell_type": "code",
   "execution_count": 9,
   "metadata": {},
   "outputs": [
    {
     "name": "stdout",
     "output_type": "stream",
     "text": [
      "      1  2  3  4  5  6  7  8  9  10  Total\n",
      "Toma                                      \n",
      "1     1  1  1  1  1  0  0  0  0   0      5\n",
      "2     0  0  1  1  1  0  0  0  0   0      3\n",
      "3     0  1  0  0  1  0  1  0  0   0      3\n",
      "4     1  1  0  0  0  0  1  1  0   0      4\n",
      "5     0  1  0  1  0  0  0  1  0   0      3\n",
      "6     1  1  0  1  1  0  0  0  0   0      4\n",
      "7     1  1  0  1  1  0  0  0  0   0      4\n",
      "8     1  1  0  0  0  1  0  0  0   0      3\n",
      "9     1  1  0  1  0  0  0  0  0   0      3\n",
      "10    1  1  0  0  0  1  0  0  1   0      4\n",
      "11    1  1  1  0  1  0  0  1  0   0      5\n",
      "12    1  1  1  1  0  1  0  0  0   0      5\n",
      "13    1  0  0  1  1  0  0  0  0   0      3\n",
      "14    1  0  1  0  0  1  0  0  0   0      3\n",
      "15    1  1  0  0  0  0  1  0  0   0      3\n",
      "16    0  0  0  1  0  0  0  0  0   1      2\n",
      "17    1  0  1  0  0  0  0  0  0   0      2\n",
      "18    0  0  1  0  0  1  0  0  0   0      2\n",
      "19    1  0  1  0  0  0  0  0  0   0      2\n",
      "20    1  0  1  1  1  0  0  0  0   0      4\n",
      "21    0  0  0  0  0  1  0  1  0   0      2\n",
      "22    1  1  1  1  0  0  0  0  0   0      4\n",
      "23    1  0  1  0  0  0  0  0  0   0      2\n",
      "24    0  0  1  0  0  1  0  0  0   0      2\n",
      "25    1  1  0  1  0  0  0  0  0   1      4\n",
      "26    1  0  1  0  1  0  0  0  1   0      4\n",
      "27    0  0  0  1  1  0  0  0  0   0      2\n",
      "28    1  0  0  1  0  0  0  0  0   0      2\n",
      "29    1  0  0  0  1  1  0  0  0   0      3\n",
      "30    1  0  0  1  0  0  0  0  0   0      2\n"
     ]
    }
   ],
   "source": [
    "# Importamos librerías a utilizar\n",
    "import pandas as pd\n",
    "import random\n",
    "import numpy as np\n",
    "\n",
    "\n",
    "def importar_datos(archivo_excel):\n",
    "    \n",
    "    # Lee el archivo y lo convierte a DataFrame\n",
    "    df = pd.read_excel(archivo_excel, skiprows=1)\n",
    "\n",
    "    # Establece la primera columna como índices\n",
    "    df = df.set_index(df.columns[0])\n",
    "    \n",
    "    # Eliminamos filas y columnas en blanco\n",
    "    df.drop(['Unnamed: 11'], axis=1, inplace=True)\n",
    "    df.drop(df.index[[30, 31]], axis=0, inplace=True)\n",
    "    \n",
    "    df = df.fillna(df['Total'].sum())\n",
    "    df = df.astype(int)\n",
    "    \n",
    "    return df\n",
    "\n",
    "# Muestra el dataframe resultante\n",
    "importar_datos('datos.xlsx')"
   ]
  },
  {
   "cell_type": "markdown",
   "metadata": {},
   "source": [
    "Se diseña una función que dada una toma del dataframe, devuelve las tomas con los mismos actores o menos, los actores de dicha toma y el número total de actores:"
   ]
  },
  {
   "cell_type": "code",
   "execution_count": 48,
   "metadata": {},
   "outputs": [],
   "source": [
    "def tomas_cercanas(toma, df):\n",
    "    \n",
    "    tomas_finales = []\n",
    "    \n",
    "    # Actores de la toma de referencia\n",
    "    actores = set(df.columns[df.loc[toma] == 1])\n",
    "    \n",
    "    # Bucle que recorre las tomas y añade las que tengan mismos \n",
    "    # actores o menos que la toma de referencia\n",
    "    for toma_prueba in df.index:\n",
    "        actores_prueba = set(df.columns[df.loc[toma_prueba] == 1])\n",
    "        if actores_prueba <= actores:\n",
    "            tomas_finales.append(toma_prueba)\n",
    "    \n",
    "    # Número de actores de la toma de referencia\n",
    "    num_actores_maximo = len(actores)    \n",
    "            \n",
    "    return tomas_finales, actores, num_actores_maximo"
   ]
  },
  {
   "cell_type": "markdown",
   "metadata": {
    "id": "m1eyM21Vkabg"
   },
   "source": [
    "Ahora se muestra el siguiente algoritmo voraz diseñado para este problema. En el primer paso se escoge una de las tomas con máximo o casi máximo número de actores (aquí introducimos un parámetro i de aleatoriedad con el fin de diversificar). A continuación, se va llenando ese día con tomas de forma que se escoge la toma que menos aumenta el coste, es decir, primero se cogen escenas que tengan los mismos actores o menos y luego aquellas que difieren con la toma de referencia en menos actores. Se continua así hasta llegar a 6 tomas, de forma que se cierra el día y se empieza de nuevo."
   ]
  },
  {
   "cell_type": "code",
   "execution_count": 49,
   "metadata": {},
   "outputs": [],
   "source": [
    "def algoritmo_voraz(data, i):\n",
    "    \n",
    "    df = data.copy()\n",
    "    \n",
    "    # Ordenamos el DataFrame por número de actores\n",
    "    df.sort_values('Total', ascending=False, inplace=True)\n",
    "    \n",
    "    # Valores iniciales\n",
    "    solucion = []\n",
    "    tomas_restantes = list(df.index)\n",
    "    coste = 0\n",
    "    \n",
    "    # Bucle que se ejecuta mientras queden tomas sin asignar a un día\n",
    "    while len(tomas_restantes) > 0:\n",
    "        \n",
    "        # Se inicializa el día y se escoge una toma aleatoria de las\n",
    "        # i primeras con más número de actores\n",
    "        dia = []\n",
    "        toma_actual = random.choice(tomas_restantes[:i]) #TOMA DE REFERENCIA\n",
    "        \n",
    "        # Las tomas locales son las tomas con mismos actores o menos,\n",
    "        # las tomas no locales el resto de las que están sin asignar\n",
    "        tomas_locales, actores, num_actores_toma = tomas_cercanas(toma_actual, df)\n",
    "        tomas_no_locales = list(set(tomas_restantes) - set(tomas_locales))\n",
    "        \n",
    "        # El coste es el número de actores de la toma\n",
    "        coste = coste + num_actores_toma\n",
    "        \n",
    "        # Bucle que va llenando tomas del día correspondiente\n",
    "        while len(dia) < 6:\n",
    "            \n",
    "            # Primero se añaden tomas locales si hay\n",
    "            if len(tomas_locales) > 0:\n",
    "                dia.append(tomas_locales[0])\n",
    "                tomas_locales = tomas_locales[1:]\n",
    "                \n",
    "            else:\n",
    "                coste_aux = float('Inf')\n",
    "                \n",
    "                # Bucle que recorres las tomas no locales y se queda \n",
    "                # con que suma menor coste\n",
    "                for toma in tomas_no_locales:\n",
    "                    actores_toma = set(df.columns[df.loc[toma] == 1])\n",
    "                    coste_toma = len(actores_toma - set(actores))\n",
    "                    \n",
    "                    if coste_toma <= coste_aux:\n",
    "                        coste_aux = coste_toma\n",
    "                        toma_aux = toma \n",
    "     \n",
    "                dia.append(toma_aux)\n",
    "                tomas_no_locales.remove(toma_aux)\n",
    "                coste = coste + coste_aux \n",
    "        \n",
    "        # Se añade a la solución el día con sus tomas correspondientes\n",
    "        solucion.append(dia)\n",
    "        \n",
    "        # Se actualiza el DataFrame y las tomas restantes para la siguiente\n",
    "        # iteración\n",
    "        tomas_restantes = [toma for toma in tomas_restantes if toma not in dia]\n",
    "        df = df.loc[tomas_restantes, :]\n",
    "        \n",
    "    return solucion, coste"
   ]
  },
  {
   "cell_type": "markdown",
   "metadata": {},
   "source": [
    "Con el fin de buscar distintas soluciones y diversificar, se aplica el algoritmo anterior variando el valor i y repitiendo el proceso 20 veces, con el fin de encontrar una mejor solución."
   ]
  },
  {
   "cell_type": "code",
   "execution_count": 61,
   "metadata": {},
   "outputs": [],
   "source": [
    "def resolver(data):\n",
    "\n",
    "    coste_final = float('Inf')\n",
    "    \n",
    "    # Se varía el parámetro de aleatoriedad i\n",
    "    for i in range(1, 5):\n",
    "        for _ in range(20):\n",
    "            solucion, coste = algoritmo_voraz(data, i)\n",
    "\n",
    "            if coste <= coste_final:\n",
    "                solucion_final = solucion\n",
    "                coste_final = coste\n",
    "    \n",
    "    # Se transforma la solución a DataFrame\n",
    "    solucion_final = pd.DataFrame(solucion_final)       \n",
    "    solucion_final.index = ['Día 1', 'Día 2', 'Día 3', 'Día 4', 'Día 5']\n",
    "    solucion_final.columns = ['T1', 'T2', 'T3', 'T4', 'T5', 'T6']\n",
    "\n",
    "    return solucion_final, coste_final"
   ]
  },
  {
   "cell_type": "code",
   "execution_count": 67,
   "metadata": {},
   "outputs": [
    {
     "name": "stdout",
     "output_type": "stream",
     "text": [
      "El coste final es 38 y la planificación es:\n",
      "\n"
     ]
    },
    {
     "data": {
      "text/html": [
       "<div>\n",
       "<style scoped>\n",
       "    .dataframe tbody tr th:only-of-type {\n",
       "        vertical-align: middle;\n",
       "    }\n",
       "\n",
       "    .dataframe tbody tr th {\n",
       "        vertical-align: top;\n",
       "    }\n",
       "\n",
       "    .dataframe thead th {\n",
       "        text-align: right;\n",
       "    }\n",
       "</style>\n",
       "<table border=\"1\" class=\"dataframe\">\n",
       "  <thead>\n",
       "    <tr style=\"text-align: right;\">\n",
       "      <th></th>\n",
       "      <th>T1</th>\n",
       "      <th>T2</th>\n",
       "      <th>T3</th>\n",
       "      <th>T4</th>\n",
       "      <th>T5</th>\n",
       "      <th>T6</th>\n",
       "    </tr>\n",
       "  </thead>\n",
       "  <tbody>\n",
       "    <tr>\n",
       "      <th>Día 1</th>\n",
       "      <td>1</td>\n",
       "      <td>22</td>\n",
       "      <td>20</td>\n",
       "      <td>7</td>\n",
       "      <td>6</td>\n",
       "      <td>9</td>\n",
       "    </tr>\n",
       "    <tr>\n",
       "      <th>Día 2</th>\n",
       "      <td>11</td>\n",
       "      <td>23</td>\n",
       "      <td>19</td>\n",
       "      <td>17</td>\n",
       "      <td>30</td>\n",
       "      <td>29</td>\n",
       "    </tr>\n",
       "    <tr>\n",
       "      <th>Día 3</th>\n",
       "      <td>12</td>\n",
       "      <td>8</td>\n",
       "      <td>14</td>\n",
       "      <td>24</td>\n",
       "      <td>28</td>\n",
       "      <td>18</td>\n",
       "    </tr>\n",
       "    <tr>\n",
       "      <th>Día 4</th>\n",
       "      <td>26</td>\n",
       "      <td>27</td>\n",
       "      <td>13</td>\n",
       "      <td>2</td>\n",
       "      <td>21</td>\n",
       "      <td>16</td>\n",
       "    </tr>\n",
       "    <tr>\n",
       "      <th>Día 5</th>\n",
       "      <td>4</td>\n",
       "      <td>15</td>\n",
       "      <td>5</td>\n",
       "      <td>3</td>\n",
       "      <td>10</td>\n",
       "      <td>25</td>\n",
       "    </tr>\n",
       "  </tbody>\n",
       "</table>\n",
       "</div>"
      ],
      "text/plain": [
       "       T1  T2  T3  T4  T5  T6\n",
       "Día 1   1  22  20   7   6   9\n",
       "Día 2  11  23  19  17  30  29\n",
       "Día 3  12   8  14  24  28  18\n",
       "Día 4  26  27  13   2  21  16\n",
       "Día 5   4  15   5   3  10  25"
      ]
     },
     "execution_count": 67,
     "metadata": {},
     "output_type": "execute_result"
    }
   ],
   "source": [
    "plan, coste = resolver(df)\n",
    "\n",
    "print(f'El coste final es {coste} y la planificación es:\\n')\n",
    "plan"
   ]
  },
  {
   "cell_type": "markdown",
   "metadata": {
    "id": "eGDB4K6uk1iN"
   },
   "source": [
    "(*)Calcula la complejidad del algoritmo"
   ]
  },
  {
   "cell_type": "markdown",
   "metadata": {
    "id": "nREzhkStlCq8"
   },
   "source": [
    "Sea $n$ el número de tomas totales, $m$ el número de actores totales y $a$ el número máximo de tomas que se pueden realizar en un día (en este caso $a=6$). Para calcular la complejidad del algoritmo tengamos en cuenta los siguientes puntos:\n",
    "- La complejidad de .sort_values() es la de un algoritmo **timsort**, es decir, $n\\log(n)$.\n",
    "- La complejidad de la función auxiliar *vecinos_cercanos* es del orden $O(nm)$, pues consta de un bucle que recorre las tomas y en cada iteración hace $m$ comprobaciones (una por columna actor).\n",
    "- La complejidad de la función final *resolver* es la misma que la de la función *algoritmo_voraz*, salvo constante.\n",
    "\n",
    "Basta entonces hallar la complejidad de la función *algoritmo_voraz* para obtener la complejidad final. El bucle **while** principal ejecuta $n/a$ iteraciones, dicho cociente queda multiplicado por la suma de los siguientes términos:\n",
    "- $(n-k)m$ operaciones de la función *vecinos_cercanos*, siendo $k$ el número de tomas que ya se han eliminado hasta dicha iteración de las tomas restantes.\n",
    "- 3 operaciones por la suma del coste, la operación entre conjuntos y añadir el día a la solcuión final.\n",
    "- $(n-k)$ operaciones para actualizar la lista de tomas restantes.\n",
    "- El bucle **while** para añadir tomas al día toma $a$ iteraciones cada vez. En el mejor de los casos realiza $a$ operaciones dentro, mientras que en el peor de los casos (cuando nunca hay tomas con mismos o menos actores que la toma de referencia) se realiza $(n-k)m$ operaciones.\n",
    "\n",
    "En conclusión, tendremos una complejidad de la forma $O(n\\log(n)) + O(n^2m)$ tanto en el mejor de los casos como en el peor. Pues que $O(n\\log(n))$ es despreciable frente a $O(n^2m)$, la complejidad de todo el algoritmo es del orden $O(n^2m)$"
   ]
  },
  {
   "cell_type": "markdown",
   "metadata": {
    "id": "3M6QjTsSkmYe"
   },
   "source": [
    "Según el problema (y tenga sentido), diseña un juego de datos de entrada aleatorios"
   ]
  },
  {
   "cell_type": "code",
   "execution_count": 62,
   "metadata": {
    "id": "sJ-N2etjkyWc"
   },
   "outputs": [
    {
     "name": "stdout",
     "output_type": "stream",
     "text": [
      "      1  2  3  4  5  6  7  8  9  10  Total\n",
      "Toma                                      \n",
      "1     0  0  0  0  0  1  0  1  1   0      3\n",
      "2     1  0  1  1  1  0  0  1  0   0      4\n",
      "3     1  0  0  0  1  1  0  1  1   1      5\n",
      "4     1  0  1  1  1  0  0  1  0   1      5\n",
      "5     0  1  1  0  0  0  0  1  0   1      4\n",
      "6     0  1  0  0  1  0  1  1  1   0      5\n",
      "7     1  1  0  0  0  0  1  1  0   0      3\n",
      "8     0  1  0  0  1  0  1  0  0   0      3\n",
      "9     1  0  1  1  0  1  0  1  1   1      6\n",
      "10    0  1  1  1  0  1  1  1  0   1      7\n",
      "11    1  1  0  0  1  1  1  1  0   0      5\n",
      "12    0  1  1  0  0  0  1  1  0   0      4\n",
      "13    0  1  1  0  0  0  0  1  0   1      4\n",
      "14    1  1  0  0  0  1  1  1  0   0      4\n",
      "15    1  1  0  0  1  1  0  0  0   1      4\n",
      "16    0  0  1  0  1  1  1  1  1   1      7\n",
      "17    0  0  0  1  1  0  1  1  0   0      4\n",
      "18    1  0  1  1  0  0  0  0  1   1      4\n",
      "19    1  0  0  1  0  0  0  0  1   0      2\n",
      "20    1  1  1  1  1  0  1  0  1   1      7\n",
      "21    0  0  1  1  1  0  1  0  1   1      6\n",
      "22    1  1  0  0  1  1  0  1  1   0      5\n",
      "23    0  0  1  1  1  1  1  1  1   0      7\n",
      "24    0  1  0  1  1  1  1  1  0   0      6\n",
      "25    1  0  1  1  0  0  0  1  1   0      4\n",
      "26    1  0  0  1  1  0  0  1  1   1      5\n",
      "27    1  0  1  1  1  0  0  1  0   1      5\n",
      "28    0  0  0  1  1  1  1  0  1   0      5\n",
      "29    0  0  1  0  0  0  1  1  1   0      4\n",
      "30    0  0  1  1  1  1  0  1  0   0      5\n"
     ]
    }
   ],
   "source": [
    "# Función para generar valores aleatorios\n",
    "def generar_valor_aleatorio(_):\n",
    "    return np.random.randint(2)\n",
    "\n",
    "# Reemplazar todos los valores por valores aleatorios\n",
    "df2 = df.applymap(generar_valor_aleatorio)\n",
    "df2['Total'] = df2.iloc[:, 1:10].sum(axis=1)\n",
    "print(df2)"
   ]
  },
  {
   "cell_type": "markdown",
   "metadata": {
    "id": "zy5ZROmjlGo1"
   },
   "source": [
    "Aplica el algoritmo al juego de datos generado"
   ]
  },
  {
   "cell_type": "code",
   "execution_count": 66,
   "metadata": {
    "id": "Jkx8GeiYlUz1"
   },
   "outputs": [
    {
     "name": "stdout",
     "output_type": "stream",
     "text": [
      "El coste final es 48 y la planificación es:\n",
      "\n"
     ]
    },
    {
     "data": {
      "text/html": [
       "<div>\n",
       "<style scoped>\n",
       "    .dataframe tbody tr th:only-of-type {\n",
       "        vertical-align: middle;\n",
       "    }\n",
       "\n",
       "    .dataframe tbody tr th {\n",
       "        vertical-align: top;\n",
       "    }\n",
       "\n",
       "    .dataframe thead th {\n",
       "        text-align: right;\n",
       "    }\n",
       "</style>\n",
       "<table border=\"1\" class=\"dataframe\">\n",
       "  <thead>\n",
       "    <tr style=\"text-align: right;\">\n",
       "      <th></th>\n",
       "      <th>T1</th>\n",
       "      <th>T2</th>\n",
       "      <th>T3</th>\n",
       "      <th>T4</th>\n",
       "      <th>T5</th>\n",
       "      <th>T6</th>\n",
       "    </tr>\n",
       "  </thead>\n",
       "  <tbody>\n",
       "    <tr>\n",
       "      <th>Día 1</th>\n",
       "      <td>16</td>\n",
       "      <td>29</td>\n",
       "      <td>1</td>\n",
       "      <td>30</td>\n",
       "      <td>28</td>\n",
       "      <td>23</td>\n",
       "    </tr>\n",
       "    <tr>\n",
       "      <th>Día 2</th>\n",
       "      <td>20</td>\n",
       "      <td>21</td>\n",
       "      <td>18</td>\n",
       "      <td>8</td>\n",
       "      <td>19</td>\n",
       "      <td>27</td>\n",
       "    </tr>\n",
       "    <tr>\n",
       "      <th>Día 3</th>\n",
       "      <td>10</td>\n",
       "      <td>13</td>\n",
       "      <td>12</td>\n",
       "      <td>5</td>\n",
       "      <td>24</td>\n",
       "      <td>17</td>\n",
       "    </tr>\n",
       "    <tr>\n",
       "      <th>Día 4</th>\n",
       "      <td>9</td>\n",
       "      <td>25</td>\n",
       "      <td>26</td>\n",
       "      <td>4</td>\n",
       "      <td>3</td>\n",
       "      <td>2</td>\n",
       "    </tr>\n",
       "    <tr>\n",
       "      <th>Día 5</th>\n",
       "      <td>11</td>\n",
       "      <td>14</td>\n",
       "      <td>7</td>\n",
       "      <td>15</td>\n",
       "      <td>6</td>\n",
       "      <td>22</td>\n",
       "    </tr>\n",
       "  </tbody>\n",
       "</table>\n",
       "</div>"
      ],
      "text/plain": [
       "       T1  T2  T3  T4  T5  T6\n",
       "Día 1  16  29   1  30  28  23\n",
       "Día 2  20  21  18   8  19  27\n",
       "Día 3  10  13  12   5  24  17\n",
       "Día 4   9  25  26   4   3   2\n",
       "Día 5  11  14   7  15   6  22"
      ]
     },
     "execution_count": 66,
     "metadata": {},
     "output_type": "execute_result"
    }
   ],
   "source": [
    "plan, coste = resolver(df2)\n",
    "\n",
    "print(f'El coste final es {coste} y la planificación es:\\n')\n",
    "plan"
   ]
  },
  {
   "cell_type": "markdown",
   "metadata": {
    "id": "eTFWUJQrtGcv"
   },
   "source": [
    "Enumera las referencias que has utilizado(si ha sido necesario) para llevar a cabo el trabajo"
   ]
  },
  {
   "cell_type": "markdown",
   "metadata": {},
   "source": [
    "- https://www.geeksforgeeks.org/timsort/ para hallar la complejidad de timsort.\n",
    "\n",
    "No he utilizado otras referencias adicionales más que lo aprendido en el máster y en el grado en Matemáticas."
   ]
  },
  {
   "cell_type": "markdown",
   "metadata": {
    "id": "kAkDPUyRtYyH"
   },
   "source": [
    "Describe brevemente las lineas de como crees que es posible avanzar en el estudio del problema. Ten en cuenta incluso posibles variaciones del problema y/o variaciones al alza del tamaño"
   ]
  },
  {
   "cell_type": "markdown",
   "metadata": {},
   "source": [
    "El algoritmo propuesto es bastante eficiente en términos de rendimiento, pues es rápido y no ocupa excesiva memoria. No obstante, se puede mejorar el valor del coste de actores y disminuirlo aún más. Esto se podría hacer con un algoritmo parecido al anterior pero que en vez de escoger tomas una a una escoger $N$ tomas a la vez y calcular el coste, de tal manera que nos quedemos con la mejor combinación de esas $N$. Tiene el inconveniente que perdería algo de velocidad (habría que realizar más iteraciones) y ocuparía algo más de memoria (para guardar las posibles soluciones).\n",
    "\n",
    "Mencionar también que el algoritmo sigue funcionando correctamente bajo posible cambios en el tamaño de los datos de entrada, tanto número de actores como número de tomas.\n",
    "\n",
    "Para una generalización del problema, podríamos también introducir como input de la función el número máximo de tomas que se pueden realizar.\n",
    "\n",
    "En mi caso estuve un par de tardes resolviendo previamente este mismo problema pero con número de días variables (donde el problema cambia radicalmente). Obtuve resultados ligeramente peores puesto que el algoritmo es más complicado de hacer ya que implementar una correcta regla voraz es más complicado. Puedo proporcionar el código si es necesario.\n",
    "\n",
    "\n",
    "Gracias!"
   ]
  },
  {
   "cell_type": "code",
   "execution_count": null,
   "metadata": {},
   "outputs": [],
   "source": []
  }
 ],
 "metadata": {
  "colab": {
   "provenance": []
  },
  "kernelspec": {
   "display_name": "Python 3 (ipykernel)",
   "language": "python",
   "name": "python3"
  },
  "language_info": {
   "codemirror_mode": {
    "name": "ipython",
    "version": 3
   },
   "file_extension": ".py",
   "mimetype": "text/x-python",
   "name": "python",
   "nbconvert_exporter": "python",
   "pygments_lexer": "ipython3",
   "version": "3.9.12"
  }
 },
 "nbformat": 4,
 "nbformat_minor": 4
}
